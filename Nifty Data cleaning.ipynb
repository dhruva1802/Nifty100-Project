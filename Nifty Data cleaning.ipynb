{
 "cells": [
  {
   "cell_type": "code",
   "execution_count": 0,
   "metadata": {
    "application/vnd.databricks.v1+cell": {
     "cellMetadata": {
      "byteLimit": 2048000,
      "rowLimit": 10000
     },
     "inputWidgets": {},
     "nuid": "6f5f69a2-414c-4aca-b677-d4b2416355aa",
     "showTitle": false,
     "tableResultSettingsMap": {},
     "title": ""
    }
   },
   "outputs": [],
   "source": [
    "import pandas as pd \n",
    "import numpy as np\n",
    "import matplotlib.pyplot as plt"
   ]
  },
  {
   "cell_type": "markdown",
   "metadata": {
    "application/vnd.databricks.v1+cell": {
     "cellMetadata": {},
     "inputWidgets": {},
     "nuid": "06354255-dcdc-4d78-8426-8d3554241b28",
     "showTitle": false,
     "tableResultSettingsMap": {},
     "title": ""
    }
   },
   "source": [
    "**Step 1) Data collection**"
   ]
  },
  {
   "cell_type": "code",
   "execution_count": 0,
   "metadata": {
    "application/vnd.databricks.v1+cell": {
     "cellMetadata": {
      "byteLimit": 2048000,
      "rowLimit": 10000
     },
     "inputWidgets": {},
     "nuid": "c15fef9a-aa4a-4ed5-81fe-59877c9f688a",
     "showTitle": false,
     "tableResultSettingsMap": {},
     "title": ""
    }
   },
   "outputs": [
    {
     "output_type": "display_data",
     "data": {
      "text/plain": [
       "\u001B[0;31m---------------------------------------------------------------------------\u001B[0m\n",
       "\u001B[0;31mFileNotFoundError\u001B[0m                         Traceback (most recent call last)\n",
       "File \u001B[0;32m<command-5731560463091524>, line 1\u001B[0m\n",
       "\u001B[0;32m----> 1\u001B[0m df1\u001B[38;5;241m=\u001B[39mpd\u001B[38;5;241m.\u001B[39mread_csv(\u001B[38;5;124m\"\u001B[39m\u001B[38;5;124m/Volumes/workspace/default/dataset/Jan 1 2006 -jan 2 2007.csv\u001B[39m\u001B[38;5;124m\"\u001B[39m)\n",
       "\u001B[1;32m      2\u001B[0m df2\u001B[38;5;241m=\u001B[39mpd\u001B[38;5;241m.\u001B[39mread_csv(\u001B[38;5;124m\"\u001B[39m\u001B[38;5;124m/Volumes/workspace/default/dataset/Jan 2 2007 - jan 1 2008.csv\u001B[39m\u001B[38;5;124m\"\u001B[39m)\n",
       "\u001B[1;32m      3\u001B[0m df3\u001B[38;5;241m=\u001B[39mpd\u001B[38;5;241m.\u001B[39mread_csv(\u001B[38;5;124m\"\u001B[39m\u001B[38;5;124m/Volumes/workspace/default/dataset/Jan 2 2008 - jan 1 2009.csv\u001B[39m\u001B[38;5;124m\"\u001B[39m)\n",
       "\n",
       "File \u001B[0;32m/databricks/python/lib/python3.11/site-packages/pandas/util/_decorators.py:211\u001B[0m, in \u001B[0;36mdeprecate_kwarg.<locals>._deprecate_kwarg.<locals>.wrapper\u001B[0;34m(*args, **kwargs)\u001B[0m\n",
       "\u001B[1;32m    209\u001B[0m     \u001B[38;5;28;01melse\u001B[39;00m:\n",
       "\u001B[1;32m    210\u001B[0m         kwargs[new_arg_name] \u001B[38;5;241m=\u001B[39m new_arg_value\n",
       "\u001B[0;32m--> 211\u001B[0m \u001B[38;5;28;01mreturn\u001B[39;00m func(\u001B[38;5;241m*\u001B[39margs, \u001B[38;5;241m*\u001B[39m\u001B[38;5;241m*\u001B[39mkwargs)\n",
       "\n",
       "File \u001B[0;32m/databricks/python/lib/python3.11/site-packages/pandas/util/_decorators.py:331\u001B[0m, in \u001B[0;36mdeprecate_nonkeyword_arguments.<locals>.decorate.<locals>.wrapper\u001B[0;34m(*args, **kwargs)\u001B[0m\n",
       "\u001B[1;32m    325\u001B[0m \u001B[38;5;28;01mif\u001B[39;00m \u001B[38;5;28mlen\u001B[39m(args) \u001B[38;5;241m>\u001B[39m num_allow_args:\n",
       "\u001B[1;32m    326\u001B[0m     warnings\u001B[38;5;241m.\u001B[39mwarn(\n",
       "\u001B[1;32m    327\u001B[0m         msg\u001B[38;5;241m.\u001B[39mformat(arguments\u001B[38;5;241m=\u001B[39m_format_argument_list(allow_args)),\n",
       "\u001B[1;32m    328\u001B[0m         \u001B[38;5;167;01mFutureWarning\u001B[39;00m,\n",
       "\u001B[1;32m    329\u001B[0m         stacklevel\u001B[38;5;241m=\u001B[39mfind_stack_level(),\n",
       "\u001B[1;32m    330\u001B[0m     )\n",
       "\u001B[0;32m--> 331\u001B[0m \u001B[38;5;28;01mreturn\u001B[39;00m func(\u001B[38;5;241m*\u001B[39margs, \u001B[38;5;241m*\u001B[39m\u001B[38;5;241m*\u001B[39mkwargs)\n",
       "\n",
       "File \u001B[0;32m/databricks/python/lib/python3.11/site-packages/pandas/io/parsers/readers.py:950\u001B[0m, in \u001B[0;36mread_csv\u001B[0;34m(filepath_or_buffer, sep, delimiter, header, names, index_col, usecols, squeeze, prefix, mangle_dupe_cols, dtype, engine, converters, true_values, false_values, skipinitialspace, skiprows, skipfooter, nrows, na_values, keep_default_na, na_filter, verbose, skip_blank_lines, parse_dates, infer_datetime_format, keep_date_col, date_parser, dayfirst, cache_dates, iterator, chunksize, compression, thousands, decimal, lineterminator, quotechar, quoting, doublequote, escapechar, comment, encoding, encoding_errors, dialect, error_bad_lines, warn_bad_lines, on_bad_lines, delim_whitespace, low_memory, memory_map, float_precision, storage_options)\u001B[0m\n",
       "\u001B[1;32m    935\u001B[0m kwds_defaults \u001B[38;5;241m=\u001B[39m _refine_defaults_read(\n",
       "\u001B[1;32m    936\u001B[0m     dialect,\n",
       "\u001B[1;32m    937\u001B[0m     delimiter,\n",
       "\u001B[0;32m   (...)\u001B[0m\n",
       "\u001B[1;32m    946\u001B[0m     defaults\u001B[38;5;241m=\u001B[39m{\u001B[38;5;124m\"\u001B[39m\u001B[38;5;124mdelimiter\u001B[39m\u001B[38;5;124m\"\u001B[39m: \u001B[38;5;124m\"\u001B[39m\u001B[38;5;124m,\u001B[39m\u001B[38;5;124m\"\u001B[39m},\n",
       "\u001B[1;32m    947\u001B[0m )\n",
       "\u001B[1;32m    948\u001B[0m kwds\u001B[38;5;241m.\u001B[39mupdate(kwds_defaults)\n",
       "\u001B[0;32m--> 950\u001B[0m \u001B[38;5;28;01mreturn\u001B[39;00m _read(filepath_or_buffer, kwds)\n",
       "\n",
       "File \u001B[0;32m/databricks/python/lib/python3.11/site-packages/pandas/io/parsers/readers.py:605\u001B[0m, in \u001B[0;36m_read\u001B[0;34m(filepath_or_buffer, kwds)\u001B[0m\n",
       "\u001B[1;32m    602\u001B[0m _validate_names(kwds\u001B[38;5;241m.\u001B[39mget(\u001B[38;5;124m\"\u001B[39m\u001B[38;5;124mnames\u001B[39m\u001B[38;5;124m\"\u001B[39m, \u001B[38;5;28;01mNone\u001B[39;00m))\n",
       "\u001B[1;32m    604\u001B[0m \u001B[38;5;66;03m# Create the parser.\u001B[39;00m\n",
       "\u001B[0;32m--> 605\u001B[0m parser \u001B[38;5;241m=\u001B[39m TextFileReader(filepath_or_buffer, \u001B[38;5;241m*\u001B[39m\u001B[38;5;241m*\u001B[39mkwds)\n",
       "\u001B[1;32m    607\u001B[0m \u001B[38;5;28;01mif\u001B[39;00m chunksize \u001B[38;5;129;01mor\u001B[39;00m iterator:\n",
       "\u001B[1;32m    608\u001B[0m     \u001B[38;5;28;01mreturn\u001B[39;00m parser\n",
       "\n",
       "File \u001B[0;32m/databricks/python/lib/python3.11/site-packages/pandas/io/parsers/readers.py:1442\u001B[0m, in \u001B[0;36mTextFileReader.__init__\u001B[0;34m(self, f, engine, **kwds)\u001B[0m\n",
       "\u001B[1;32m   1439\u001B[0m     \u001B[38;5;28mself\u001B[39m\u001B[38;5;241m.\u001B[39moptions[\u001B[38;5;124m\"\u001B[39m\u001B[38;5;124mhas_index_names\u001B[39m\u001B[38;5;124m\"\u001B[39m] \u001B[38;5;241m=\u001B[39m kwds[\u001B[38;5;124m\"\u001B[39m\u001B[38;5;124mhas_index_names\u001B[39m\u001B[38;5;124m\"\u001B[39m]\n",
       "\u001B[1;32m   1441\u001B[0m \u001B[38;5;28mself\u001B[39m\u001B[38;5;241m.\u001B[39mhandles: IOHandles \u001B[38;5;241m|\u001B[39m \u001B[38;5;28;01mNone\u001B[39;00m \u001B[38;5;241m=\u001B[39m \u001B[38;5;28;01mNone\u001B[39;00m\n",
       "\u001B[0;32m-> 1442\u001B[0m \u001B[38;5;28mself\u001B[39m\u001B[38;5;241m.\u001B[39m_engine \u001B[38;5;241m=\u001B[39m \u001B[38;5;28mself\u001B[39m\u001B[38;5;241m.\u001B[39m_make_engine(f, \u001B[38;5;28mself\u001B[39m\u001B[38;5;241m.\u001B[39mengine)\n",
       "\n",
       "File \u001B[0;32m/databricks/python/lib/python3.11/site-packages/pandas/io/parsers/readers.py:1735\u001B[0m, in \u001B[0;36mTextFileReader._make_engine\u001B[0;34m(self, f, engine)\u001B[0m\n",
       "\u001B[1;32m   1733\u001B[0m     \u001B[38;5;28;01mif\u001B[39;00m \u001B[38;5;124m\"\u001B[39m\u001B[38;5;124mb\u001B[39m\u001B[38;5;124m\"\u001B[39m \u001B[38;5;129;01mnot\u001B[39;00m \u001B[38;5;129;01min\u001B[39;00m mode:\n",
       "\u001B[1;32m   1734\u001B[0m         mode \u001B[38;5;241m+\u001B[39m\u001B[38;5;241m=\u001B[39m \u001B[38;5;124m\"\u001B[39m\u001B[38;5;124mb\u001B[39m\u001B[38;5;124m\"\u001B[39m\n",
       "\u001B[0;32m-> 1735\u001B[0m \u001B[38;5;28mself\u001B[39m\u001B[38;5;241m.\u001B[39mhandles \u001B[38;5;241m=\u001B[39m get_handle(\n",
       "\u001B[1;32m   1736\u001B[0m     f,\n",
       "\u001B[1;32m   1737\u001B[0m     mode,\n",
       "\u001B[1;32m   1738\u001B[0m     encoding\u001B[38;5;241m=\u001B[39m\u001B[38;5;28mself\u001B[39m\u001B[38;5;241m.\u001B[39moptions\u001B[38;5;241m.\u001B[39mget(\u001B[38;5;124m\"\u001B[39m\u001B[38;5;124mencoding\u001B[39m\u001B[38;5;124m\"\u001B[39m, \u001B[38;5;28;01mNone\u001B[39;00m),\n",
       "\u001B[1;32m   1739\u001B[0m     compression\u001B[38;5;241m=\u001B[39m\u001B[38;5;28mself\u001B[39m\u001B[38;5;241m.\u001B[39moptions\u001B[38;5;241m.\u001B[39mget(\u001B[38;5;124m\"\u001B[39m\u001B[38;5;124mcompression\u001B[39m\u001B[38;5;124m\"\u001B[39m, \u001B[38;5;28;01mNone\u001B[39;00m),\n",
       "\u001B[1;32m   1740\u001B[0m     memory_map\u001B[38;5;241m=\u001B[39m\u001B[38;5;28mself\u001B[39m\u001B[38;5;241m.\u001B[39moptions\u001B[38;5;241m.\u001B[39mget(\u001B[38;5;124m\"\u001B[39m\u001B[38;5;124mmemory_map\u001B[39m\u001B[38;5;124m\"\u001B[39m, \u001B[38;5;28;01mFalse\u001B[39;00m),\n",
       "\u001B[1;32m   1741\u001B[0m     is_text\u001B[38;5;241m=\u001B[39mis_text,\n",
       "\u001B[1;32m   1742\u001B[0m     errors\u001B[38;5;241m=\u001B[39m\u001B[38;5;28mself\u001B[39m\u001B[38;5;241m.\u001B[39moptions\u001B[38;5;241m.\u001B[39mget(\u001B[38;5;124m\"\u001B[39m\u001B[38;5;124mencoding_errors\u001B[39m\u001B[38;5;124m\"\u001B[39m, \u001B[38;5;124m\"\u001B[39m\u001B[38;5;124mstrict\u001B[39m\u001B[38;5;124m\"\u001B[39m),\n",
       "\u001B[1;32m   1743\u001B[0m     storage_options\u001B[38;5;241m=\u001B[39m\u001B[38;5;28mself\u001B[39m\u001B[38;5;241m.\u001B[39moptions\u001B[38;5;241m.\u001B[39mget(\u001B[38;5;124m\"\u001B[39m\u001B[38;5;124mstorage_options\u001B[39m\u001B[38;5;124m\"\u001B[39m, \u001B[38;5;28;01mNone\u001B[39;00m),\n",
       "\u001B[1;32m   1744\u001B[0m )\n",
       "\u001B[1;32m   1745\u001B[0m \u001B[38;5;28;01massert\u001B[39;00m \u001B[38;5;28mself\u001B[39m\u001B[38;5;241m.\u001B[39mhandles \u001B[38;5;129;01mis\u001B[39;00m \u001B[38;5;129;01mnot\u001B[39;00m \u001B[38;5;28;01mNone\u001B[39;00m\n",
       "\u001B[1;32m   1746\u001B[0m f \u001B[38;5;241m=\u001B[39m \u001B[38;5;28mself\u001B[39m\u001B[38;5;241m.\u001B[39mhandles\u001B[38;5;241m.\u001B[39mhandle\n",
       "\n",
       "File \u001B[0;32m/databricks/python/lib/python3.11/site-packages/pandas/io/common.py:856\u001B[0m, in \u001B[0;36mget_handle\u001B[0;34m(path_or_buf, mode, encoding, compression, memory_map, is_text, errors, storage_options)\u001B[0m\n",
       "\u001B[1;32m    851\u001B[0m \u001B[38;5;28;01melif\u001B[39;00m \u001B[38;5;28misinstance\u001B[39m(handle, \u001B[38;5;28mstr\u001B[39m):\n",
       "\u001B[1;32m    852\u001B[0m     \u001B[38;5;66;03m# Check whether the filename is to be opened in binary mode.\u001B[39;00m\n",
       "\u001B[1;32m    853\u001B[0m     \u001B[38;5;66;03m# Binary mode does not support 'encoding' and 'newline'.\u001B[39;00m\n",
       "\u001B[1;32m    854\u001B[0m     \u001B[38;5;28;01mif\u001B[39;00m ioargs\u001B[38;5;241m.\u001B[39mencoding \u001B[38;5;129;01mand\u001B[39;00m \u001B[38;5;124m\"\u001B[39m\u001B[38;5;124mb\u001B[39m\u001B[38;5;124m\"\u001B[39m \u001B[38;5;129;01mnot\u001B[39;00m \u001B[38;5;129;01min\u001B[39;00m ioargs\u001B[38;5;241m.\u001B[39mmode:\n",
       "\u001B[1;32m    855\u001B[0m         \u001B[38;5;66;03m# Encoding\u001B[39;00m\n",
       "\u001B[0;32m--> 856\u001B[0m         handle \u001B[38;5;241m=\u001B[39m \u001B[38;5;28mopen\u001B[39m(\n",
       "\u001B[1;32m    857\u001B[0m             handle,\n",
       "\u001B[1;32m    858\u001B[0m             ioargs\u001B[38;5;241m.\u001B[39mmode,\n",
       "\u001B[1;32m    859\u001B[0m             encoding\u001B[38;5;241m=\u001B[39mioargs\u001B[38;5;241m.\u001B[39mencoding,\n",
       "\u001B[1;32m    860\u001B[0m             errors\u001B[38;5;241m=\u001B[39merrors,\n",
       "\u001B[1;32m    861\u001B[0m             newline\u001B[38;5;241m=\u001B[39m\u001B[38;5;124m\"\u001B[39m\u001B[38;5;124m\"\u001B[39m,\n",
       "\u001B[1;32m    862\u001B[0m         )\n",
       "\u001B[1;32m    863\u001B[0m     \u001B[38;5;28;01melse\u001B[39;00m:\n",
       "\u001B[1;32m    864\u001B[0m         \u001B[38;5;66;03m# Binary mode\u001B[39;00m\n",
       "\u001B[1;32m    865\u001B[0m         handle \u001B[38;5;241m=\u001B[39m \u001B[38;5;28mopen\u001B[39m(handle, ioargs\u001B[38;5;241m.\u001B[39mmode)\n",
       "\n",
       "\u001B[0;31mFileNotFoundError\u001B[0m: [Errno 2] No such file or directory: '/Volumes/workspace/default/dataset/Jan 1 2006 -jan 2 2007.csv'"
      ]
     },
     "metadata": {
      "application/vnd.databricks.v1+output": {
       "addedWidgets": {},
       "arguments": {},
       "datasetInfos": [],
       "jupyterProps": {
        "ename": "FileNotFoundError",
        "evalue": "[Errno 2] No such file or directory: '/Volumes/workspace/default/dataset/Jan 1 2006 -jan 2 2007.csv'"
       },
       "metadata": {
        "errorSummary": "<span class='ansi-red-fg'>FileNotFoundError</span>: [Errno 2] No such file or directory: '/Volumes/workspace/default/dataset/Jan 1 2006 -jan 2 2007.csv'"
       },
       "removedWidgets": [],
       "sqlProps": null,
       "stackFrames": [
        "\u001B[0;31m---------------------------------------------------------------------------\u001B[0m",
        "\u001B[0;31mFileNotFoundError\u001B[0m                         Traceback (most recent call last)",
        "File \u001B[0;32m<command-5731560463091524>, line 1\u001B[0m\n\u001B[0;32m----> 1\u001B[0m df1\u001B[38;5;241m=\u001B[39mpd\u001B[38;5;241m.\u001B[39mread_csv(\u001B[38;5;124m\"\u001B[39m\u001B[38;5;124m/Volumes/workspace/default/dataset/Jan 1 2006 -jan 2 2007.csv\u001B[39m\u001B[38;5;124m\"\u001B[39m)\n\u001B[1;32m      2\u001B[0m df2\u001B[38;5;241m=\u001B[39mpd\u001B[38;5;241m.\u001B[39mread_csv(\u001B[38;5;124m\"\u001B[39m\u001B[38;5;124m/Volumes/workspace/default/dataset/Jan 2 2007 - jan 1 2008.csv\u001B[39m\u001B[38;5;124m\"\u001B[39m)\n\u001B[1;32m      3\u001B[0m df3\u001B[38;5;241m=\u001B[39mpd\u001B[38;5;241m.\u001B[39mread_csv(\u001B[38;5;124m\"\u001B[39m\u001B[38;5;124m/Volumes/workspace/default/dataset/Jan 2 2008 - jan 1 2009.csv\u001B[39m\u001B[38;5;124m\"\u001B[39m)\n",
        "File \u001B[0;32m/databricks/python/lib/python3.11/site-packages/pandas/util/_decorators.py:211\u001B[0m, in \u001B[0;36mdeprecate_kwarg.<locals>._deprecate_kwarg.<locals>.wrapper\u001B[0;34m(*args, **kwargs)\u001B[0m\n\u001B[1;32m    209\u001B[0m     \u001B[38;5;28;01melse\u001B[39;00m:\n\u001B[1;32m    210\u001B[0m         kwargs[new_arg_name] \u001B[38;5;241m=\u001B[39m new_arg_value\n\u001B[0;32m--> 211\u001B[0m \u001B[38;5;28;01mreturn\u001B[39;00m func(\u001B[38;5;241m*\u001B[39margs, \u001B[38;5;241m*\u001B[39m\u001B[38;5;241m*\u001B[39mkwargs)\n",
        "File \u001B[0;32m/databricks/python/lib/python3.11/site-packages/pandas/util/_decorators.py:331\u001B[0m, in \u001B[0;36mdeprecate_nonkeyword_arguments.<locals>.decorate.<locals>.wrapper\u001B[0;34m(*args, **kwargs)\u001B[0m\n\u001B[1;32m    325\u001B[0m \u001B[38;5;28;01mif\u001B[39;00m \u001B[38;5;28mlen\u001B[39m(args) \u001B[38;5;241m>\u001B[39m num_allow_args:\n\u001B[1;32m    326\u001B[0m     warnings\u001B[38;5;241m.\u001B[39mwarn(\n\u001B[1;32m    327\u001B[0m         msg\u001B[38;5;241m.\u001B[39mformat(arguments\u001B[38;5;241m=\u001B[39m_format_argument_list(allow_args)),\n\u001B[1;32m    328\u001B[0m         \u001B[38;5;167;01mFutureWarning\u001B[39;00m,\n\u001B[1;32m    329\u001B[0m         stacklevel\u001B[38;5;241m=\u001B[39mfind_stack_level(),\n\u001B[1;32m    330\u001B[0m     )\n\u001B[0;32m--> 331\u001B[0m \u001B[38;5;28;01mreturn\u001B[39;00m func(\u001B[38;5;241m*\u001B[39margs, \u001B[38;5;241m*\u001B[39m\u001B[38;5;241m*\u001B[39mkwargs)\n",
        "File \u001B[0;32m/databricks/python/lib/python3.11/site-packages/pandas/io/parsers/readers.py:950\u001B[0m, in \u001B[0;36mread_csv\u001B[0;34m(filepath_or_buffer, sep, delimiter, header, names, index_col, usecols, squeeze, prefix, mangle_dupe_cols, dtype, engine, converters, true_values, false_values, skipinitialspace, skiprows, skipfooter, nrows, na_values, keep_default_na, na_filter, verbose, skip_blank_lines, parse_dates, infer_datetime_format, keep_date_col, date_parser, dayfirst, cache_dates, iterator, chunksize, compression, thousands, decimal, lineterminator, quotechar, quoting, doublequote, escapechar, comment, encoding, encoding_errors, dialect, error_bad_lines, warn_bad_lines, on_bad_lines, delim_whitespace, low_memory, memory_map, float_precision, storage_options)\u001B[0m\n\u001B[1;32m    935\u001B[0m kwds_defaults \u001B[38;5;241m=\u001B[39m _refine_defaults_read(\n\u001B[1;32m    936\u001B[0m     dialect,\n\u001B[1;32m    937\u001B[0m     delimiter,\n\u001B[0;32m   (...)\u001B[0m\n\u001B[1;32m    946\u001B[0m     defaults\u001B[38;5;241m=\u001B[39m{\u001B[38;5;124m\"\u001B[39m\u001B[38;5;124mdelimiter\u001B[39m\u001B[38;5;124m\"\u001B[39m: \u001B[38;5;124m\"\u001B[39m\u001B[38;5;124m,\u001B[39m\u001B[38;5;124m\"\u001B[39m},\n\u001B[1;32m    947\u001B[0m )\n\u001B[1;32m    948\u001B[0m kwds\u001B[38;5;241m.\u001B[39mupdate(kwds_defaults)\n\u001B[0;32m--> 950\u001B[0m \u001B[38;5;28;01mreturn\u001B[39;00m _read(filepath_or_buffer, kwds)\n",
        "File \u001B[0;32m/databricks/python/lib/python3.11/site-packages/pandas/io/parsers/readers.py:605\u001B[0m, in \u001B[0;36m_read\u001B[0;34m(filepath_or_buffer, kwds)\u001B[0m\n\u001B[1;32m    602\u001B[0m _validate_names(kwds\u001B[38;5;241m.\u001B[39mget(\u001B[38;5;124m\"\u001B[39m\u001B[38;5;124mnames\u001B[39m\u001B[38;5;124m\"\u001B[39m, \u001B[38;5;28;01mNone\u001B[39;00m))\n\u001B[1;32m    604\u001B[0m \u001B[38;5;66;03m# Create the parser.\u001B[39;00m\n\u001B[0;32m--> 605\u001B[0m parser \u001B[38;5;241m=\u001B[39m TextFileReader(filepath_or_buffer, \u001B[38;5;241m*\u001B[39m\u001B[38;5;241m*\u001B[39mkwds)\n\u001B[1;32m    607\u001B[0m \u001B[38;5;28;01mif\u001B[39;00m chunksize \u001B[38;5;129;01mor\u001B[39;00m iterator:\n\u001B[1;32m    608\u001B[0m     \u001B[38;5;28;01mreturn\u001B[39;00m parser\n",
        "File \u001B[0;32m/databricks/python/lib/python3.11/site-packages/pandas/io/parsers/readers.py:1442\u001B[0m, in \u001B[0;36mTextFileReader.__init__\u001B[0;34m(self, f, engine, **kwds)\u001B[0m\n\u001B[1;32m   1439\u001B[0m     \u001B[38;5;28mself\u001B[39m\u001B[38;5;241m.\u001B[39moptions[\u001B[38;5;124m\"\u001B[39m\u001B[38;5;124mhas_index_names\u001B[39m\u001B[38;5;124m\"\u001B[39m] \u001B[38;5;241m=\u001B[39m kwds[\u001B[38;5;124m\"\u001B[39m\u001B[38;5;124mhas_index_names\u001B[39m\u001B[38;5;124m\"\u001B[39m]\n\u001B[1;32m   1441\u001B[0m \u001B[38;5;28mself\u001B[39m\u001B[38;5;241m.\u001B[39mhandles: IOHandles \u001B[38;5;241m|\u001B[39m \u001B[38;5;28;01mNone\u001B[39;00m \u001B[38;5;241m=\u001B[39m \u001B[38;5;28;01mNone\u001B[39;00m\n\u001B[0;32m-> 1442\u001B[0m \u001B[38;5;28mself\u001B[39m\u001B[38;5;241m.\u001B[39m_engine \u001B[38;5;241m=\u001B[39m \u001B[38;5;28mself\u001B[39m\u001B[38;5;241m.\u001B[39m_make_engine(f, \u001B[38;5;28mself\u001B[39m\u001B[38;5;241m.\u001B[39mengine)\n",
        "File \u001B[0;32m/databricks/python/lib/python3.11/site-packages/pandas/io/parsers/readers.py:1735\u001B[0m, in \u001B[0;36mTextFileReader._make_engine\u001B[0;34m(self, f, engine)\u001B[0m\n\u001B[1;32m   1733\u001B[0m     \u001B[38;5;28;01mif\u001B[39;00m \u001B[38;5;124m\"\u001B[39m\u001B[38;5;124mb\u001B[39m\u001B[38;5;124m\"\u001B[39m \u001B[38;5;129;01mnot\u001B[39;00m \u001B[38;5;129;01min\u001B[39;00m mode:\n\u001B[1;32m   1734\u001B[0m         mode \u001B[38;5;241m+\u001B[39m\u001B[38;5;241m=\u001B[39m \u001B[38;5;124m\"\u001B[39m\u001B[38;5;124mb\u001B[39m\u001B[38;5;124m\"\u001B[39m\n\u001B[0;32m-> 1735\u001B[0m \u001B[38;5;28mself\u001B[39m\u001B[38;5;241m.\u001B[39mhandles \u001B[38;5;241m=\u001B[39m get_handle(\n\u001B[1;32m   1736\u001B[0m     f,\n\u001B[1;32m   1737\u001B[0m     mode,\n\u001B[1;32m   1738\u001B[0m     encoding\u001B[38;5;241m=\u001B[39m\u001B[38;5;28mself\u001B[39m\u001B[38;5;241m.\u001B[39moptions\u001B[38;5;241m.\u001B[39mget(\u001B[38;5;124m\"\u001B[39m\u001B[38;5;124mencoding\u001B[39m\u001B[38;5;124m\"\u001B[39m, \u001B[38;5;28;01mNone\u001B[39;00m),\n\u001B[1;32m   1739\u001B[0m     compression\u001B[38;5;241m=\u001B[39m\u001B[38;5;28mself\u001B[39m\u001B[38;5;241m.\u001B[39moptions\u001B[38;5;241m.\u001B[39mget(\u001B[38;5;124m\"\u001B[39m\u001B[38;5;124mcompression\u001B[39m\u001B[38;5;124m\"\u001B[39m, \u001B[38;5;28;01mNone\u001B[39;00m),\n\u001B[1;32m   1740\u001B[0m     memory_map\u001B[38;5;241m=\u001B[39m\u001B[38;5;28mself\u001B[39m\u001B[38;5;241m.\u001B[39moptions\u001B[38;5;241m.\u001B[39mget(\u001B[38;5;124m\"\u001B[39m\u001B[38;5;124mmemory_map\u001B[39m\u001B[38;5;124m\"\u001B[39m, \u001B[38;5;28;01mFalse\u001B[39;00m),\n\u001B[1;32m   1741\u001B[0m     is_text\u001B[38;5;241m=\u001B[39mis_text,\n\u001B[1;32m   1742\u001B[0m     errors\u001B[38;5;241m=\u001B[39m\u001B[38;5;28mself\u001B[39m\u001B[38;5;241m.\u001B[39moptions\u001B[38;5;241m.\u001B[39mget(\u001B[38;5;124m\"\u001B[39m\u001B[38;5;124mencoding_errors\u001B[39m\u001B[38;5;124m\"\u001B[39m, \u001B[38;5;124m\"\u001B[39m\u001B[38;5;124mstrict\u001B[39m\u001B[38;5;124m\"\u001B[39m),\n\u001B[1;32m   1743\u001B[0m     storage_options\u001B[38;5;241m=\u001B[39m\u001B[38;5;28mself\u001B[39m\u001B[38;5;241m.\u001B[39moptions\u001B[38;5;241m.\u001B[39mget(\u001B[38;5;124m\"\u001B[39m\u001B[38;5;124mstorage_options\u001B[39m\u001B[38;5;124m\"\u001B[39m, \u001B[38;5;28;01mNone\u001B[39;00m),\n\u001B[1;32m   1744\u001B[0m )\n\u001B[1;32m   1745\u001B[0m \u001B[38;5;28;01massert\u001B[39;00m \u001B[38;5;28mself\u001B[39m\u001B[38;5;241m.\u001B[39mhandles \u001B[38;5;129;01mis\u001B[39;00m \u001B[38;5;129;01mnot\u001B[39;00m \u001B[38;5;28;01mNone\u001B[39;00m\n\u001B[1;32m   1746\u001B[0m f \u001B[38;5;241m=\u001B[39m \u001B[38;5;28mself\u001B[39m\u001B[38;5;241m.\u001B[39mhandles\u001B[38;5;241m.\u001B[39mhandle\n",
        "File \u001B[0;32m/databricks/python/lib/python3.11/site-packages/pandas/io/common.py:856\u001B[0m, in \u001B[0;36mget_handle\u001B[0;34m(path_or_buf, mode, encoding, compression, memory_map, is_text, errors, storage_options)\u001B[0m\n\u001B[1;32m    851\u001B[0m \u001B[38;5;28;01melif\u001B[39;00m \u001B[38;5;28misinstance\u001B[39m(handle, \u001B[38;5;28mstr\u001B[39m):\n\u001B[1;32m    852\u001B[0m     \u001B[38;5;66;03m# Check whether the filename is to be opened in binary mode.\u001B[39;00m\n\u001B[1;32m    853\u001B[0m     \u001B[38;5;66;03m# Binary mode does not support 'encoding' and 'newline'.\u001B[39;00m\n\u001B[1;32m    854\u001B[0m     \u001B[38;5;28;01mif\u001B[39;00m ioargs\u001B[38;5;241m.\u001B[39mencoding \u001B[38;5;129;01mand\u001B[39;00m \u001B[38;5;124m\"\u001B[39m\u001B[38;5;124mb\u001B[39m\u001B[38;5;124m\"\u001B[39m \u001B[38;5;129;01mnot\u001B[39;00m \u001B[38;5;129;01min\u001B[39;00m ioargs\u001B[38;5;241m.\u001B[39mmode:\n\u001B[1;32m    855\u001B[0m         \u001B[38;5;66;03m# Encoding\u001B[39;00m\n\u001B[0;32m--> 856\u001B[0m         handle \u001B[38;5;241m=\u001B[39m \u001B[38;5;28mopen\u001B[39m(\n\u001B[1;32m    857\u001B[0m             handle,\n\u001B[1;32m    858\u001B[0m             ioargs\u001B[38;5;241m.\u001B[39mmode,\n\u001B[1;32m    859\u001B[0m             encoding\u001B[38;5;241m=\u001B[39mioargs\u001B[38;5;241m.\u001B[39mencoding,\n\u001B[1;32m    860\u001B[0m             errors\u001B[38;5;241m=\u001B[39merrors,\n\u001B[1;32m    861\u001B[0m             newline\u001B[38;5;241m=\u001B[39m\u001B[38;5;124m\"\u001B[39m\u001B[38;5;124m\"\u001B[39m,\n\u001B[1;32m    862\u001B[0m         )\n\u001B[1;32m    863\u001B[0m     \u001B[38;5;28;01melse\u001B[39;00m:\n\u001B[1;32m    864\u001B[0m         \u001B[38;5;66;03m# Binary mode\u001B[39;00m\n\u001B[1;32m    865\u001B[0m         handle \u001B[38;5;241m=\u001B[39m \u001B[38;5;28mopen\u001B[39m(handle, ioargs\u001B[38;5;241m.\u001B[39mmode)\n",
        "\u001B[0;31mFileNotFoundError\u001B[0m: [Errno 2] No such file or directory: '/Volumes/workspace/default/dataset/Jan 1 2006 -jan 2 2007.csv'"
       ],
       "type": "baseError"
      }
     },
     "output_type": "display_data"
    }
   ],
   "source": [
    "df1=pd.read_csv(\"/Volumes/workspace/default/dataset/Jan 1 2006 -jan 2 2007.csv\")\n",
    "df2=pd.read_csv(\"/Volumes/workspace/default/dataset/Jan 2 2007 - jan 1 2008.csv\")\n",
    "df3=pd.read_csv(\"/Volumes/workspace/default/dataset/Jan 2 2008 - jan 1 2009.csv\")\n",
    "df4=pd.read_csv(\"/Volumes/workspace/default/dataset/Jan 2 2009 - jan 1 2010.csv\")\n",
    "df5=pd.read_csv(\"/Volumes/workspace/default/dataset/jan 2 2010 - jan 1 2011.csv\")\n",
    "df6=pd.read_csv(\"/Volumes/workspace/default/dataset/Jan 2 2011 - Jan 1 2012.csv\")\n",
    "df7=pd.read_csv(\"/Volumes/workspace/default/dataset/Jan 2 2012 - jan 1 2013.csv\")\n",
    "df8=pd.read_csv(\"/Volumes/workspace/default/dataset/jan 2 2013 - jan 1 2014.csv\")\n",
    "df9=pd.read_csv(\"/Volumes/workspace/default/dataset/Jan 2 2014 -Jan 1 2015.csv\")\n",
    "df10=pd.read_csv(\"/Volumes/workspace/default/dataset/Jan 2 2015 - Jan 1 2016.csv\")\n",
    "df11=pd.read_csv(\"/Volumes/workspace/default/dataset/Jan 2 2016 - Jan 1 2017.csv\")\n",
    "df12=pd.read_csv(\"/Volumes/workspace/default/dataset/Jan 2 2017 - Jan 1 2018.csv\")\n",
    "df13=pd.read_csv(\"/Volumes/workspace/default/dataset/Jan 2 2018 - Jan 1 2019.csv\")\n",
    "df14=pd.read_csv(\"/Volumes/workspace/default/dataset/Jan 2 2019 - jan 1 2020.csv\")\n",
    "df15=pd.read_csv(\"/Volumes/workspace/default/dataset/Jan 2 2020 -  Jan 1 2021.csv\")\n",
    "df16=pd.read_csv(\"/Volumes/workspace/default/dataset/Jan 2 2021 - Jan 1 2022.csv\")\n",
    "df17=pd.read_csv(\"/Volumes/workspace/default/dataset/Jan 2 2022 - Jan 1 2023.csv\")\n",
    "df18=pd.read_csv(\"/Volumes/workspace/default/dataset/2 Jan 2023 -  Jan 1 2024.csv\")\n",
    "df19=pd.read_csv(\"/Volumes/workspace/default/dataset/2 Jan 2024- Jan 1 2025.csv\")\n",
    "df20=pd.read_csv(\"/Volumes/workspace/default/dataset/2 Jan 2025 - 17 Aug 2025.csv\")"
   ]
  },
  {
   "cell_type": "code",
   "execution_count": 0,
   "metadata": {
    "application/vnd.databricks.v1+cell": {
     "cellMetadata": {
      "byteLimit": 2048000,
      "rowLimit": 10000
     },
     "inputWidgets": {},
     "nuid": "7b12dd9a-5f6a-43d6-bb0a-d61b8a2eba7e",
     "showTitle": false,
     "tableResultSettingsMap": {},
     "title": ""
    }
   },
   "outputs": [
    {
     "output_type": "display_data",
     "data": {
      "text/plain": [
       "\u001B[0;31m---------------------------------------------------------------------------\u001B[0m\n",
       "\u001B[0;31mNameError\u001B[0m                                 Traceback (most recent call last)\n",
       "File \u001B[0;32m<command-7353709813361989>, line 6\u001B[0m\n",
       "\u001B[1;32m      2\u001B[0m \u001B[38;5;28;01mimport\u001B[39;00m \u001B[38;5;21;01mpandas\u001B[39;00m \u001B[38;5;28;01mas\u001B[39;00m \u001B[38;5;21;01mpd\u001B[39;00m\n",
       "\u001B[1;32m      4\u001B[0m \u001B[38;5;66;03m# Combine all in order\u001B[39;00m\n",
       "\u001B[1;32m      5\u001B[0m final_df \u001B[38;5;241m=\u001B[39m pd\u001B[38;5;241m.\u001B[39mconcat(\n",
       "\u001B[0;32m----> 6\u001B[0m     [df1, df2, df3, df4, df5, df6, df7, df8, df9, \n",
       "\u001B[1;32m      7\u001B[0m      df10, df11, df12, df13, df14, df15, df16,df17,df18,df19,df20],\n",
       "\u001B[1;32m      8\u001B[0m     ignore_index\u001B[38;5;241m=\u001B[39m\u001B[38;5;28;01mTrue\u001B[39;00m\n",
       "\u001B[1;32m      9\u001B[0m )\n",
       "\u001B[1;32m     11\u001B[0m \u001B[38;5;66;03m# Check result\u001B[39;00m\n",
       "\u001B[1;32m     12\u001B[0m \u001B[38;5;28mprint\u001B[39m(final_df\u001B[38;5;241m.\u001B[39mshape)\n",
       "\n",
       "\u001B[0;31mNameError\u001B[0m: name 'df1' is not defined"
      ]
     },
     "metadata": {
      "application/vnd.databricks.v1+output": {
       "addedWidgets": {},
       "arguments": {},
       "datasetInfos": [],
       "jupyterProps": {
        "ename": "NameError",
        "evalue": "name 'df1' is not defined"
       },
       "metadata": {
        "errorSummary": "<span class='ansi-red-fg'>NameError</span>: name 'df1' is not defined"
       },
       "removedWidgets": [],
       "sqlProps": null,
       "stackFrames": [
        "\u001B[0;31m---------------------------------------------------------------------------\u001B[0m",
        "\u001B[0;31mNameError\u001B[0m                                 Traceback (most recent call last)",
        "File \u001B[0;32m<command-7353709813361989>, line 6\u001B[0m\n\u001B[1;32m      2\u001B[0m \u001B[38;5;28;01mimport\u001B[39;00m \u001B[38;5;21;01mpandas\u001B[39;00m \u001B[38;5;28;01mas\u001B[39;00m \u001B[38;5;21;01mpd\u001B[39;00m\n\u001B[1;32m      4\u001B[0m \u001B[38;5;66;03m# Combine all in order\u001B[39;00m\n\u001B[1;32m      5\u001B[0m final_df \u001B[38;5;241m=\u001B[39m pd\u001B[38;5;241m.\u001B[39mconcat(\n\u001B[0;32m----> 6\u001B[0m     [df1, df2, df3, df4, df5, df6, df7, df8, df9, \n\u001B[1;32m      7\u001B[0m      df10, df11, df12, df13, df14, df15, df16,df17,df18,df19,df20],\n\u001B[1;32m      8\u001B[0m     ignore_index\u001B[38;5;241m=\u001B[39m\u001B[38;5;28;01mTrue\u001B[39;00m\n\u001B[1;32m      9\u001B[0m )\n\u001B[1;32m     11\u001B[0m \u001B[38;5;66;03m# Check result\u001B[39;00m\n\u001B[1;32m     12\u001B[0m \u001B[38;5;28mprint\u001B[39m(final_df\u001B[38;5;241m.\u001B[39mshape)\n",
        "\u001B[0;31mNameError\u001B[0m: name 'df1' is not defined"
       ],
       "type": "baseError"
      }
     },
     "output_type": "display_data"
    }
   ],
   "source": [
    "# concating all the dataframes into one datafrmae\n",
    "import pandas as pd\n",
    "\n",
    "# Combine all in order\n",
    "final_df = pd.concat(\n",
    "    [df1, df2, df3, df4, df5, df6, df7, df8, df9, \n",
    "     df10, df11, df12, df13, df14, df15, df16,df17,df18,df19,df20],\n",
    "    ignore_index=True\n",
    ")\n",
    "\n",
    "# Check result\n",
    "print(final_df.shape)\n",
    "final_df.columns"
   ]
  },
  {
   "cell_type": "markdown",
   "metadata": {
    "application/vnd.databricks.v1+cell": {
     "cellMetadata": {},
     "inputWidgets": {},
     "nuid": "e5dcab76-836d-4466-a67a-84771662f11d",
     "showTitle": false,
     "tableResultSettingsMap": {},
     "title": ""
    }
   },
   "source": [
    "**Step 2) Data Inspection**"
   ]
  },
  {
   "cell_type": "code",
   "execution_count": 0,
   "metadata": {
    "application/vnd.databricks.v1+cell": {
     "cellMetadata": {
      "byteLimit": 2048000,
      "rowLimit": 10000
     },
     "inputWidgets": {},
     "nuid": "9bcc8216-35af-4089-993d-799df636d5ff",
     "showTitle": false,
     "tableResultSettingsMap": {},
     "title": ""
    }
   },
   "outputs": [
    {
     "output_type": "execute_result",
     "data": {
      "text/html": [
       "<div>\n",
       "<style scoped>\n",
       "    .dataframe tbody tr th:only-of-type {\n",
       "        vertical-align: middle;\n",
       "    }\n",
       "\n",
       "    .dataframe tbody tr th {\n",
       "        vertical-align: top;\n",
       "    }\n",
       "\n",
       "    .dataframe thead th {\n",
       "        text-align: right;\n",
       "    }\n",
       "</style>\n",
       "<table border=\"1\" class=\"dataframe\">\n",
       "  <thead>\n",
       "    <tr style=\"text-align: right;\">\n",
       "      <th></th>\n",
       "      <th>Index Name</th>\n",
       "      <th>Date</th>\n",
       "      <th>Open</th>\n",
       "      <th>High</th>\n",
       "      <th>Low</th>\n",
       "      <th>Close</th>\n",
       "    </tr>\n",
       "  </thead>\n",
       "  <tbody>\n",
       "    <tr>\n",
       "      <th>0</th>\n",
       "      <td>NIFTY 100</td>\n",
       "      <td>29-12-2006</td>\n",
       "      <td>3846.0</td>\n",
       "      <td>3859.7</td>\n",
       "      <td>3835.1</td>\n",
       "      <td>3839.3</td>\n",
       "    </tr>\n",
       "    <tr>\n",
       "      <th>1</th>\n",
       "      <td>NIFTY 100</td>\n",
       "      <td>28-12-2006</td>\n",
       "      <td>3862.3</td>\n",
       "      <td>3862.3</td>\n",
       "      <td>3831.7</td>\n",
       "      <td>3838.6</td>\n",
       "    </tr>\n",
       "    <tr>\n",
       "      <th>2</th>\n",
       "      <td>NIFTY 100</td>\n",
       "      <td>27-12-2006</td>\n",
       "      <td>3826.4</td>\n",
       "      <td>3851.7</td>\n",
       "      <td>3826.4</td>\n",
       "      <td>3840.7</td>\n",
       "    </tr>\n",
       "    <tr>\n",
       "      <th>3</th>\n",
       "      <td>NIFTY 100</td>\n",
       "      <td>26-12-2006</td>\n",
       "      <td>3746.6</td>\n",
       "      <td>3811.8</td>\n",
       "      <td>3744.2</td>\n",
       "      <td>3808.2</td>\n",
       "    </tr>\n",
       "    <tr>\n",
       "      <th>4</th>\n",
       "      <td>NIFTY 100</td>\n",
       "      <td>22-12-2006</td>\n",
       "      <td>3709.5</td>\n",
       "      <td>3743.8</td>\n",
       "      <td>3699.3</td>\n",
       "      <td>3739.3</td>\n",
       "    </tr>\n",
       "  </tbody>\n",
       "</table>\n",
       "</div>"
      ],
      "text/plain": [
       "  Index Name        Date    Open    High     Low   Close\n",
       "0  NIFTY 100  29-12-2006  3846.0  3859.7  3835.1  3839.3\n",
       "1  NIFTY 100  28-12-2006  3862.3  3862.3  3831.7  3838.6\n",
       "2  NIFTY 100  27-12-2006  3826.4  3851.7  3826.4  3840.7\n",
       "3  NIFTY 100  26-12-2006  3746.6  3811.8  3744.2  3808.2\n",
       "4  NIFTY 100  22-12-2006  3709.5  3743.8  3699.3  3739.3"
      ]
     },
     "execution_count": 164,
     "metadata": {},
     "output_type": "execute_result"
    }
   ],
   "source": [
    "final_df.head(5)"
   ]
  },
  {
   "cell_type": "code",
   "execution_count": 0,
   "metadata": {
    "application/vnd.databricks.v1+cell": {
     "cellMetadata": {
      "byteLimit": 2048000,
      "rowLimit": 10000
     },
     "inputWidgets": {},
     "nuid": "3de9f254-d32b-4ced-bf18-17149161cb0d",
     "showTitle": false,
     "tableResultSettingsMap": {},
     "title": ""
    }
   },
   "outputs": [
    {
     "output_type": "execute_result",
     "data": {
      "text/html": [
       "<div>\n",
       "<style scoped>\n",
       "    .dataframe tbody tr th:only-of-type {\n",
       "        vertical-align: middle;\n",
       "    }\n",
       "\n",
       "    .dataframe tbody tr th {\n",
       "        vertical-align: top;\n",
       "    }\n",
       "\n",
       "    .dataframe thead th {\n",
       "        text-align: right;\n",
       "    }\n",
       "</style>\n",
       "<table border=\"1\" class=\"dataframe\">\n",
       "  <thead>\n",
       "    <tr style=\"text-align: right;\">\n",
       "      <th></th>\n",
       "      <th>Index Name</th>\n",
       "      <th>Date</th>\n",
       "      <th>Open</th>\n",
       "      <th>High</th>\n",
       "      <th>Low</th>\n",
       "      <th>Close</th>\n",
       "    </tr>\n",
       "  </thead>\n",
       "  <tbody>\n",
       "    <tr>\n",
       "      <th>4860</th>\n",
       "      <td>NIFTY 100</td>\n",
       "      <td>08-01-2025</td>\n",
       "      <td>24515.6</td>\n",
       "      <td>24521.5</td>\n",
       "      <td>24232.9</td>\n",
       "      <td>24426.0</td>\n",
       "    </tr>\n",
       "    <tr>\n",
       "      <th>4861</th>\n",
       "      <td>NIFTY 100</td>\n",
       "      <td>07-01-2025</td>\n",
       "      <td>24461.0</td>\n",
       "      <td>24597.6</td>\n",
       "      <td>24411.7</td>\n",
       "      <td>24478.1</td>\n",
       "    </tr>\n",
       "    <tr>\n",
       "      <th>4862</th>\n",
       "      <td>NIFTY 100</td>\n",
       "      <td>06-01-2025</td>\n",
       "      <td>24920.4</td>\n",
       "      <td>24929.2</td>\n",
       "      <td>24335.3</td>\n",
       "      <td>24404.6</td>\n",
       "    </tr>\n",
       "    <tr>\n",
       "      <th>4863</th>\n",
       "      <td>NIFTY 100</td>\n",
       "      <td>03-01-2025</td>\n",
       "      <td>25058.3</td>\n",
       "      <td>25060.9</td>\n",
       "      <td>24849.9</td>\n",
       "      <td>24879.9</td>\n",
       "    </tr>\n",
       "    <tr>\n",
       "      <th>4864</th>\n",
       "      <td>NIFTY 100</td>\n",
       "      <td>02-01-2025</td>\n",
       "      <td>24637.2</td>\n",
       "      <td>25054.9</td>\n",
       "      <td>24600.0</td>\n",
       "      <td>25028.8</td>\n",
       "    </tr>\n",
       "  </tbody>\n",
       "</table>\n",
       "</div>"
      ],
      "text/plain": [
       "     Index Name        Date     Open     High      Low    Close\n",
       "4860  NIFTY 100  08-01-2025  24515.6  24521.5  24232.9  24426.0\n",
       "4861  NIFTY 100  07-01-2025  24461.0  24597.6  24411.7  24478.1\n",
       "4862  NIFTY 100  06-01-2025  24920.4  24929.2  24335.3  24404.6\n",
       "4863  NIFTY 100  03-01-2025  25058.3  25060.9  24849.9  24879.9\n",
       "4864  NIFTY 100  02-01-2025  24637.2  25054.9  24600.0  25028.8"
      ]
     },
     "execution_count": 165,
     "metadata": {},
     "output_type": "execute_result"
    }
   ],
   "source": [
    "final_df.tail(5)"
   ]
  },
  {
   "cell_type": "code",
   "execution_count": 0,
   "metadata": {
    "application/vnd.databricks.v1+cell": {
     "cellMetadata": {
      "byteLimit": 2048000,
      "rowLimit": 10000
     },
     "inputWidgets": {},
     "nuid": "53a763e4-7098-4aa2-a052-acb32f97b941",
     "showTitle": false,
     "tableResultSettingsMap": {},
     "title": ""
    }
   },
   "outputs": [
    {
     "output_type": "stream",
     "name": "stdout",
     "output_type": "stream",
     "text": [
      "<class 'pandas.core.frame.DataFrame'>\nRangeIndex: 4865 entries, 0 to 4864\nData columns (total 6 columns):\n #   Column      Non-Null Count  Dtype  \n---  ------      --------------  -----  \n 0   Index Name  4865 non-null   object \n 1   Date        4865 non-null   object \n 2   Open        4865 non-null   object \n 3   High        4865 non-null   object \n 4   Low         4865 non-null   object \n 5   Close       4865 non-null   float64\ndtypes: float64(1), object(5)\nmemory usage: 228.2+ KB\n"
     ]
    }
   ],
   "source": [
    "final_df.info()"
   ]
  },
  {
   "cell_type": "code",
   "execution_count": 0,
   "metadata": {
    "application/vnd.databricks.v1+cell": {
     "cellMetadata": {
      "byteLimit": 2048000,
      "rowLimit": 10000
     },
     "inputWidgets": {},
     "nuid": "6c8f02b6-a11b-4a93-bd5e-7c166faa4592",
     "showTitle": false,
     "tableResultSettingsMap": {},
     "title": ""
    }
   },
   "outputs": [
    {
     "output_type": "execute_result",
     "data": {
      "text/html": [
       "<div>\n",
       "<style scoped>\n",
       "    .dataframe tbody tr th:only-of-type {\n",
       "        vertical-align: middle;\n",
       "    }\n",
       "\n",
       "    .dataframe tbody tr th {\n",
       "        vertical-align: top;\n",
       "    }\n",
       "\n",
       "    .dataframe thead th {\n",
       "        text-align: right;\n",
       "    }\n",
       "</style>\n",
       "<table border=\"1\" class=\"dataframe\">\n",
       "  <thead>\n",
       "    <tr style=\"text-align: right;\">\n",
       "      <th></th>\n",
       "      <th>Close</th>\n",
       "    </tr>\n",
       "  </thead>\n",
       "  <tbody>\n",
       "    <tr>\n",
       "      <th>count</th>\n",
       "      <td>4865.000000</td>\n",
       "    </tr>\n",
       "    <tr>\n",
       "      <th>mean</th>\n",
       "      <td>10060.944954</td>\n",
       "    </tr>\n",
       "    <tr>\n",
       "      <th>std</th>\n",
       "      <td>6279.747125</td>\n",
       "    </tr>\n",
       "    <tr>\n",
       "      <th>min</th>\n",
       "      <td>2388.600000</td>\n",
       "    </tr>\n",
       "    <tr>\n",
       "      <th>25%</th>\n",
       "      <td>5186.600000</td>\n",
       "    </tr>\n",
       "    <tr>\n",
       "      <th>50%</th>\n",
       "      <td>8283.300000</td>\n",
       "    </tr>\n",
       "    <tr>\n",
       "      <th>75%</th>\n",
       "      <td>12174.700000</td>\n",
       "    </tr>\n",
       "    <tr>\n",
       "      <th>max</th>\n",
       "      <td>27256.300000</td>\n",
       "    </tr>\n",
       "  </tbody>\n",
       "</table>\n",
       "</div>"
      ],
      "text/plain": [
       "              Close\n",
       "count   4865.000000\n",
       "mean   10060.944954\n",
       "std     6279.747125\n",
       "min     2388.600000\n",
       "25%     5186.600000\n",
       "50%     8283.300000\n",
       "75%    12174.700000\n",
       "max    27256.300000"
      ]
     },
     "execution_count": 168,
     "metadata": {},
     "output_type": "execute_result"
    }
   ],
   "source": [
    "final_df.describe()"
   ]
  },
  {
   "cell_type": "code",
   "execution_count": 0,
   "metadata": {
    "application/vnd.databricks.v1+cell": {
     "cellMetadata": {
      "byteLimit": 2048000,
      "rowLimit": 10000
     },
     "inputWidgets": {},
     "nuid": "6e6b63a1-1731-4fce-9ae4-e5d2194d6695",
     "showTitle": false,
     "tableResultSettingsMap": {},
     "title": ""
    }
   },
   "outputs": [
    {
     "output_type": "stream",
     "name": "stdout",
     "output_type": "stream",
     "text": [
      "(4710, 6)\n499140\n487.44140625 KB\n0.4760169982910156 MB\n"
     ]
    }
   ],
   "source": [
    "# checking shape and size of df\n",
    "print(final_df.shape)\n",
    "print(final_df.memory_usage(deep=True).sum())\n",
    "print(final_df.memory_usage(deep=True).sum() / 1024, \"KB\")\n",
    "print(final_df.memory_usage(deep=True).sum() / (1024*1024), \"MB\")"
   ]
  },
  {
   "cell_type": "markdown",
   "metadata": {
    "application/vnd.databricks.v1+cell": {
     "cellMetadata": {},
     "inputWidgets": {},
     "nuid": "d88cbe02-8c26-4e4b-86c4-c3ba6890c316",
     "showTitle": false,
     "tableResultSettingsMap": {},
     "title": ""
    }
   },
   "source": [
    "**Step 3) Data Cleaning**"
   ]
  },
  {
   "cell_type": "code",
   "execution_count": 0,
   "metadata": {
    "application/vnd.databricks.v1+cell": {
     "cellMetadata": {
      "byteLimit": 2048000,
      "rowLimit": 10000
     },
     "inputWidgets": {},
     "nuid": "d6352394-fa32-422a-86c5-85c4f996f96d",
     "showTitle": false,
     "tableResultSettingsMap": {},
     "title": ""
    }
   },
   "outputs": [
    {
     "output_type": "execute_result",
     "data": {
      "text/html": [
       "<div>\n",
       "<style scoped>\n",
       "    .dataframe tbody tr th:only-of-type {\n",
       "        vertical-align: middle;\n",
       "    }\n",
       "\n",
       "    .dataframe tbody tr th {\n",
       "        vertical-align: top;\n",
       "    }\n",
       "\n",
       "    .dataframe thead th {\n",
       "        text-align: right;\n",
       "    }\n",
       "</style>\n",
       "<table border=\"1\" class=\"dataframe\">\n",
       "  <thead>\n",
       "    <tr style=\"text-align: right;\">\n",
       "      <th></th>\n",
       "      <th>Date</th>\n",
       "      <th>Open</th>\n",
       "      <th>High</th>\n",
       "      <th>Low</th>\n",
       "      <th>Close</th>\n",
       "    </tr>\n",
       "  </thead>\n",
       "  <tbody>\n",
       "    <tr>\n",
       "      <th>0</th>\n",
       "      <td>29-12-2006</td>\n",
       "      <td>3846.0</td>\n",
       "      <td>3859.7</td>\n",
       "      <td>3835.1</td>\n",
       "      <td>3839.3</td>\n",
       "    </tr>\n",
       "    <tr>\n",
       "      <th>1</th>\n",
       "      <td>28-12-2006</td>\n",
       "      <td>3862.3</td>\n",
       "      <td>3862.3</td>\n",
       "      <td>3831.7</td>\n",
       "      <td>3838.6</td>\n",
       "    </tr>\n",
       "    <tr>\n",
       "      <th>2</th>\n",
       "      <td>27-12-2006</td>\n",
       "      <td>3826.4</td>\n",
       "      <td>3851.7</td>\n",
       "      <td>3826.4</td>\n",
       "      <td>3840.7</td>\n",
       "    </tr>\n",
       "    <tr>\n",
       "      <th>3</th>\n",
       "      <td>26-12-2006</td>\n",
       "      <td>3746.6</td>\n",
       "      <td>3811.8</td>\n",
       "      <td>3744.2</td>\n",
       "      <td>3808.2</td>\n",
       "    </tr>\n",
       "    <tr>\n",
       "      <th>4</th>\n",
       "      <td>22-12-2006</td>\n",
       "      <td>3709.5</td>\n",
       "      <td>3743.8</td>\n",
       "      <td>3699.3</td>\n",
       "      <td>3739.3</td>\n",
       "    </tr>\n",
       "    <tr>\n",
       "      <th>...</th>\n",
       "      <td>...</td>\n",
       "      <td>...</td>\n",
       "      <td>...</td>\n",
       "      <td>...</td>\n",
       "      <td>...</td>\n",
       "    </tr>\n",
       "    <tr>\n",
       "      <th>4860</th>\n",
       "      <td>08-01-2025</td>\n",
       "      <td>24515.6</td>\n",
       "      <td>24521.5</td>\n",
       "      <td>24232.9</td>\n",
       "      <td>24426.0</td>\n",
       "    </tr>\n",
       "    <tr>\n",
       "      <th>4861</th>\n",
       "      <td>07-01-2025</td>\n",
       "      <td>24461.0</td>\n",
       "      <td>24597.6</td>\n",
       "      <td>24411.7</td>\n",
       "      <td>24478.1</td>\n",
       "    </tr>\n",
       "    <tr>\n",
       "      <th>4862</th>\n",
       "      <td>06-01-2025</td>\n",
       "      <td>24920.4</td>\n",
       "      <td>24929.2</td>\n",
       "      <td>24335.3</td>\n",
       "      <td>24404.6</td>\n",
       "    </tr>\n",
       "    <tr>\n",
       "      <th>4863</th>\n",
       "      <td>03-01-2025</td>\n",
       "      <td>25058.3</td>\n",
       "      <td>25060.9</td>\n",
       "      <td>24849.9</td>\n",
       "      <td>24879.9</td>\n",
       "    </tr>\n",
       "    <tr>\n",
       "      <th>4864</th>\n",
       "      <td>02-01-2025</td>\n",
       "      <td>24637.2</td>\n",
       "      <td>25054.9</td>\n",
       "      <td>24600.0</td>\n",
       "      <td>25028.8</td>\n",
       "    </tr>\n",
       "  </tbody>\n",
       "</table>\n",
       "<p>4865 rows × 5 columns</p>\n",
       "</div>"
      ],
      "text/plain": [
       "            Date     Open     High      Low    Close\n",
       "0     29-12-2006   3846.0   3859.7   3835.1   3839.3\n",
       "1     28-12-2006   3862.3   3862.3   3831.7   3838.6\n",
       "2     27-12-2006   3826.4   3851.7   3826.4   3840.7\n",
       "3     26-12-2006   3746.6   3811.8   3744.2   3808.2\n",
       "4     22-12-2006   3709.5   3743.8   3699.3   3739.3\n",
       "...          ...      ...      ...      ...      ...\n",
       "4860  08-01-2025  24515.6  24521.5  24232.9  24426.0\n",
       "4861  07-01-2025  24461.0  24597.6  24411.7  24478.1\n",
       "4862  06-01-2025  24920.4  24929.2  24335.3  24404.6\n",
       "4863  03-01-2025  25058.3  25060.9  24849.9  24879.9\n",
       "4864  02-01-2025  24637.2  25054.9  24600.0  25028.8\n",
       "\n",
       "[4865 rows x 5 columns]"
      ]
     },
     "execution_count": 170,
     "metadata": {},
     "output_type": "execute_result"
    }
   ],
   "source": [
    "# drop the col Index Name\n",
    "final_df.drop(['Index Name'], axis=1, errors='ignore')"
   ]
  },
  {
   "cell_type": "code",
   "execution_count": 0,
   "metadata": {
    "application/vnd.databricks.v1+cell": {
     "cellMetadata": {
      "byteLimit": 2048000,
      "rowLimit": 10000
     },
     "inputWidgets": {},
     "nuid": "a2632577-fc0c-4b31-b490-8b2043b84486",
     "showTitle": false,
     "tableResultSettingsMap": {},
     "title": ""
    }
   },
   "outputs": [
    {
     "output_type": "display_data",
     "data": {
      "text/plain": [
       "\u001B[0;31m---------------------------------------------------------------------------\u001B[0m\n",
       "\u001B[0;31mNameError\u001B[0m                                 Traceback (most recent call last)\n",
       "File \u001B[0;32m<command-7564486487696445>, line 2\u001B[0m\n",
       "\u001B[1;32m      1\u001B[0m \u001B[38;5;66;03m# replacing null valaue with nan\u001B[39;00m\n",
       "\u001B[0;32m----> 2\u001B[0m final_df[\u001B[38;5;124m'\u001B[39m\u001B[38;5;124mOpen\u001B[39m\u001B[38;5;124m'\u001B[39m] \u001B[38;5;241m=\u001B[39m final_df[\u001B[38;5;124m'\u001B[39m\u001B[38;5;124mOpen\u001B[39m\u001B[38;5;124m'\u001B[39m]\u001B[38;5;241m.\u001B[39mreplace(\u001B[38;5;124m'\u001B[39m\u001B[38;5;124m_\u001B[39m\u001B[38;5;124m'\u001B[39m, np\u001B[38;5;241m.\u001B[39mnan)\n",
       "\n",
       "\u001B[0;31mNameError\u001B[0m: name 'final_df' is not defined"
      ]
     },
     "metadata": {
      "application/vnd.databricks.v1+output": {
       "addedWidgets": {},
       "arguments": {},
       "datasetInfos": [],
       "jupyterProps": {
        "ename": "NameError",
        "evalue": "name 'final_df' is not defined"
       },
       "metadata": {
        "errorSummary": "<span class='ansi-red-fg'>NameError</span>: name 'final_df' is not defined"
       },
       "removedWidgets": [],
       "sqlProps": null,
       "stackFrames": [
        "\u001B[0;31m---------------------------------------------------------------------------\u001B[0m",
        "\u001B[0;31mNameError\u001B[0m                                 Traceback (most recent call last)",
        "File \u001B[0;32m<command-7564486487696445>, line 2\u001B[0m\n\u001B[1;32m      1\u001B[0m \u001B[38;5;66;03m# replacing null valaue with nan\u001B[39;00m\n\u001B[0;32m----> 2\u001B[0m final_df[\u001B[38;5;124m'\u001B[39m\u001B[38;5;124mOpen\u001B[39m\u001B[38;5;124m'\u001B[39m] \u001B[38;5;241m=\u001B[39m final_df[\u001B[38;5;124m'\u001B[39m\u001B[38;5;124mOpen\u001B[39m\u001B[38;5;124m'\u001B[39m]\u001B[38;5;241m.\u001B[39mreplace(\u001B[38;5;124m'\u001B[39m\u001B[38;5;124m_\u001B[39m\u001B[38;5;124m'\u001B[39m, np\u001B[38;5;241m.\u001B[39mnan)\n",
        "\u001B[0;31mNameError\u001B[0m: name 'final_df' is not defined"
       ],
       "type": "baseError"
      }
     },
     "output_type": "display_data"
    }
   ],
   "source": [
    "# replacing null valaue with nan\n",
    "final_df['Open'] = final_df['Open'].replace('_', np.nan)"
   ]
  },
  {
   "cell_type": "code",
   "execution_count": 0,
   "metadata": {
    "application/vnd.databricks.v1+cell": {
     "cellMetadata": {
      "byteLimit": 2048000,
      "rowLimit": 10000
     },
     "inputWidgets": {},
     "nuid": "671f8289-6732-4913-9250-7b73a5195a11",
     "showTitle": false,
     "tableResultSettingsMap": {},
     "title": ""
    }
   },
   "outputs": [],
   "source": [
    "# converting to float (using pd.to_numeric handles errors better)\n",
    "\n",
    "final_df['Open'] = pd.to_numeric(final_df['Open'], errors='coerce')\n",
    "final_df['High'] = pd.to_numeric(final_df['High'], errors='coerce')\n",
    "final_df['Low']  = pd.to_numeric(final_df['Low'], errors='coerce')\n",
    "final_df['Close']= pd.to_numeric(final_df['Close'], errors='coerce')\n",
    "final_df['Date'] = pd.to_datetime(final_df['Date'], errors='coerce')\n"
   ]
  },
  {
   "cell_type": "code",
   "execution_count": 0,
   "metadata": {
    "application/vnd.databricks.v1+cell": {
     "cellMetadata": {
      "byteLimit": 2048000,
      "rowLimit": 10000
     },
     "inputWidgets": {},
     "nuid": "4b89cb34-50ec-45aa-90b8-922e99327b6e",
     "showTitle": false,
     "tableResultSettingsMap": {},
     "title": ""
    }
   },
   "outputs": [],
   "source": [
    "# typecasting\n",
    "final_df['Open'] = final_df['Open'].replace('_', np.nan).astype(float)\n",
    "final_df['High'] = final_df['High'].replace('_', np.nan).astype(float)\n",
    "final_df['Low'] = final_df['Low'].replace('_', np.nan).astype(float)\n",
    "final_df['Close'] = final_df['Close'].replace('_', np.nan).astype(float)\n",
    "final_df['Date'] = pd.to_datetime(final_df['Date'])"
   ]
  },
  {
   "cell_type": "code",
   "execution_count": 0,
   "metadata": {
    "application/vnd.databricks.v1+cell": {
     "cellMetadata": {
      "byteLimit": 2048000,
      "rowLimit": 10000
     },
     "inputWidgets": {},
     "nuid": "7cb6b143-8a99-4014-bbf7-8643ba51503f",
     "showTitle": false,
     "tableResultSettingsMap": {},
     "title": ""
    }
   },
   "outputs": [
    {
     "output_type": "execute_result",
     "data": {
      "text/plain": [
       "Index Name            object\n",
       "Date          datetime64[ns]\n",
       "Open                 float64\n",
       "High                 float64\n",
       "Low                  float64\n",
       "Close                float64\n",
       "dtype: object"
      ]
     },
     "execution_count": 92,
     "metadata": {},
     "output_type": "execute_result"
    }
   ],
   "source": [
    "final_df.dtypes"
   ]
  },
  {
   "cell_type": "code",
   "execution_count": 0,
   "metadata": {
    "application/vnd.databricks.v1+cell": {
     "cellMetadata": {
      "byteLimit": 2048000,
      "rowLimit": 10000
     },
     "inputWidgets": {},
     "nuid": "3ad4f106-ffe5-4aee-87d4-bb1509076403",
     "showTitle": false,
     "tableResultSettingsMap": {},
     "title": ""
    }
   },
   "outputs": [
    {
     "output_type": "execute_result",
     "data": {
      "text/html": [
       "<div>\n",
       "<style scoped>\n",
       "    .dataframe tbody tr th:only-of-type {\n",
       "        vertical-align: middle;\n",
       "    }\n",
       "\n",
       "    .dataframe tbody tr th {\n",
       "        vertical-align: top;\n",
       "    }\n",
       "\n",
       "    .dataframe thead th {\n",
       "        text-align: right;\n",
       "    }\n",
       "</style>\n",
       "<table border=\"1\" class=\"dataframe\">\n",
       "  <thead>\n",
       "    <tr style=\"text-align: right;\">\n",
       "      <th></th>\n",
       "      <th>Open</th>\n",
       "      <th>High</th>\n",
       "      <th>Low</th>\n",
       "      <th>Close</th>\n",
       "    </tr>\n",
       "  </thead>\n",
       "  <tbody>\n",
       "    <tr>\n",
       "      <th>count</th>\n",
       "      <td>4845.000000</td>\n",
       "      <td>4845.000000</td>\n",
       "      <td>4845.000000</td>\n",
       "      <td>4865.000000</td>\n",
       "    </tr>\n",
       "    <tr>\n",
       "      <th>mean</th>\n",
       "      <td>10098.060609</td>\n",
       "      <td>10149.666460</td>\n",
       "      <td>10028.861465</td>\n",
       "      <td>10060.944954</td>\n",
       "    </tr>\n",
       "    <tr>\n",
       "      <th>std</th>\n",
       "      <td>6279.324843</td>\n",
       "      <td>6299.490399</td>\n",
       "      <td>6249.447511</td>\n",
       "      <td>6279.747125</td>\n",
       "    </tr>\n",
       "    <tr>\n",
       "      <th>min</th>\n",
       "      <td>2388.800000</td>\n",
       "      <td>2433.500000</td>\n",
       "      <td>2145.100000</td>\n",
       "      <td>2388.600000</td>\n",
       "    </tr>\n",
       "    <tr>\n",
       "      <th>25%</th>\n",
       "      <td>5199.700000</td>\n",
       "      <td>5228.300000</td>\n",
       "      <td>5163.000000</td>\n",
       "      <td>5186.600000</td>\n",
       "    </tr>\n",
       "    <tr>\n",
       "      <th>50%</th>\n",
       "      <td>8300.600000</td>\n",
       "      <td>8339.400000</td>\n",
       "      <td>8250.300000</td>\n",
       "      <td>8283.300000</td>\n",
       "    </tr>\n",
       "    <tr>\n",
       "      <th>75%</th>\n",
       "      <td>12196.150000</td>\n",
       "      <td>12231.800000</td>\n",
       "      <td>12139.800000</td>\n",
       "      <td>12174.700000</td>\n",
       "    </tr>\n",
       "    <tr>\n",
       "      <th>max</th>\n",
       "      <td>27283.300000</td>\n",
       "      <td>27335.700000</td>\n",
       "      <td>27228.300000</td>\n",
       "      <td>27256.300000</td>\n",
       "    </tr>\n",
       "  </tbody>\n",
       "</table>\n",
       "</div>"
      ],
      "text/plain": [
       "               Open          High           Low         Close\n",
       "count   4845.000000   4845.000000   4845.000000   4865.000000\n",
       "mean   10098.060609  10149.666460  10028.861465  10060.944954\n",
       "std     6279.324843   6299.490399   6249.447511   6279.747125\n",
       "min     2388.800000   2433.500000   2145.100000   2388.600000\n",
       "25%     5199.700000   5228.300000   5163.000000   5186.600000\n",
       "50%     8300.600000   8339.400000   8250.300000   8283.300000\n",
       "75%    12196.150000  12231.800000  12139.800000  12174.700000\n",
       "max    27283.300000  27335.700000  27228.300000  27256.300000"
      ]
     },
     "execution_count": 175,
     "metadata": {},
     "output_type": "execute_result"
    }
   ],
   "source": [
    "final_df.describe()"
   ]
  },
  {
   "cell_type": "markdown",
   "metadata": {
    "application/vnd.databricks.v1+cell": {
     "cellMetadata": {},
     "inputWidgets": {},
     "nuid": "5ee9d8da-896d-4a4d-9efe-5f2bab8ee5f1",
     "showTitle": false,
     "tableResultSettingsMap": {},
     "title": ""
    }
   },
   "source": [
    "**Step 4) Univariate Analysis (Single Feature)**"
   ]
  },
  {
   "cell_type": "code",
   "execution_count": 0,
   "metadata": {
    "application/vnd.databricks.v1+cell": {
     "cellMetadata": {
      "byteLimit": 2048000,
      "rowLimit": 10000
     },
     "inputWidgets": {},
     "nuid": "430feb5a-8314-42e1-8c4a-689624754da1",
     "showTitle": false,
     "tableResultSettingsMap": {},
     "title": ""
    }
   },
   "outputs": [
    {
     "output_type": "display_data",
     "data": {
      "image/png": "[encoded data removed]",
      "text/plain": [
       "<Figure size 800x600 with 1 Axes>"
      ]
     },
     "metadata": {},
     "output_type": "display_data"
    }
   ],
   "source": [
    "import matplotlib.pyplot as plt\n",
    "import seaborn as sns\n",
    "\n",
    "plt.figure(\n",
    "    figsize=(8, 6)\n",
    ")\n",
    "sns.boxplot(\n",
    "    data=final_df[['Open', 'Close']]\n",
    ")\n",
    "plt.title(\"Box Plot of Open and Close Prices\")\n",
    "plt.ylabel(\"Price\")\n",
    "\n",
    "# Calculate statistics (excluding 'mode')\n",
    "stats = final_df[['Open', 'Close']].agg(\n",
    "    [\n",
    "        'mean',\n",
    "        'median',\n",
    "        'min',\n",
    "        'max'\n",
    "    ]\n",
    ").T\n",
    "\n",
    "# Calculate mode separately\n",
    "modes = final_df[['Open', 'Close']].mode().iloc[0]\n",
    "stats['mode'] = modes\n",
    "\n",
    "for i, col in enumerate(stats.index):\n",
    "    plt.text(\n",
    "        i,\n",
    "        stats.loc[col, 'mean'],\n",
    "        f\"Mean: {stats.loc[col, 'mean']:.2f}\",\n",
    "        ha='center',\n",
    "        va='bottom',\n",
    "        color='blue'\n",
    "    )\n",
    "    plt.text(\n",
    "        i,\n",
    "        stats.loc[col, 'median'],\n",
    "        f\"Median: {stats.loc[col, 'median']:.2f}\",\n",
    "        ha='center',\n",
    "        va='bottom',\n",
    "        color='green'\n",
    "    )\n",
    "    plt.text(\n",
    "        i,\n",
    "        stats.loc[col, 'mode'],\n",
    "        f\"Mode: {stats.loc[col, 'mode']:.2f}\",\n",
    "        ha='center',\n",
    "        va='bottom',\n",
    "        color='purple'\n",
    "    )\n",
    "    plt.text(\n",
    "        i,\n",
    "        stats.loc[col, 'min'],\n",
    "        f\"Min: {stats.loc[col, 'min']:.2f}\",\n",
    "        ha='center',\n",
    "        va='bottom',\n",
    "        color='red'\n",
    "    )\n",
    "    plt.text(\n",
    "        i,\n",
    "        stats.loc[col, 'max'],\n",
    "        f\"Max: {stats.loc[col, 'max']:.2f}\",\n",
    "        ha='center',\n",
    "        va='bottom',\n",
    "        color='orange'\n",
    "    )\n",
    "    \n",
    "plt.show()"
   ]
  },
  {
   "cell_type": "markdown",
   "metadata": {
    "application/vnd.databricks.v1+cell": {
     "cellMetadata": {},
     "inputWidgets": {},
     "nuid": "96cc8838-2e82-4614-bfea-d9ca34172013",
     "showTitle": false,
     "tableResultSettingsMap": {},
     "title": ""
    }
   },
   "source": [
    "**Step 5) Bivariate / Multivariate Analysis**"
   ]
  },
  {
   "cell_type": "code",
   "execution_count": 0,
   "metadata": {
    "application/vnd.databricks.v1+cell": {
     "cellMetadata": {
      "byteLimit": 2048000,
      "rowLimit": 10000
     },
     "inputWidgets": {},
     "nuid": "36e66b2f-bfa0-48c3-932f-2138e7ec8c21",
     "showTitle": false,
     "tableResultSettingsMap": {},
     "title": ""
    }
   },
   "outputs": [
    {
     "output_type": "display_data",
     "data": {
      "image/png": "[encoded data removed]",
      "text/plain": [
       "<Figure size 1000x500 with 1 Axes>"
      ]
     },
     "metadata": {},
     "output_type": "display_data"
    }
   ],
   "source": [
    "import matplotlib.pyplot as plt\n",
    "import numpy as np\n",
    "\n",
    "# Ensure 'Date' column is in datetime format\n",
    "final_df['Date'] = pd.to_datetime(final_df['Date'], errors='coerce')\n",
    "final_df['Year'] = final_df['Date'].dt.year\n",
    "\n",
    "# Group by year and calculate average 'Open' and 'Close'\n",
    "yearly_stats = final_df.groupby('Year')[['Open', 'Close']].mean().reset_index()\n",
    "\n",
    "# Plot\n",
    "plt.figure(figsize=(10, 5))\n",
    "plt.plot(yearly_stats['Year'], yearly_stats['Open'], marker='o', label='Average Open')\n",
    "plt.plot(yearly_stats['Year'], yearly_stats['Close'], marker='s', label='Average Close')\n",
    "\n",
    "plt.xticks(np.arange(yearly_stats['Year'].min(), yearly_stats['Year'].max() + 1, 2))\n",
    "plt.title(\"Year-wise Average Open and Close Prices\")\n",
    "plt.xlabel(\"Year\")\n",
    "plt.ylabel(\"Price\")\n",
    "plt.legend()\n",
    "plt.grid(True)\n",
    "plt.show()"
   ]
  },
  {
   "cell_type": "markdown",
   "metadata": {
    "application/vnd.databricks.v1+cell": {
     "cellMetadata": {},
     "inputWidgets": {},
     "nuid": "6a4d9726-7c8f-4d41-9891-1f257a03087d",
     "showTitle": false,
     "tableResultSettingsMap": {},
     "title": ""
    }
   },
   "source": []
  },
  {
   "cell_type": "code",
   "execution_count": 0,
   "metadata": {
    "application/vnd.databricks.v1+cell": {
     "cellMetadata": {
      "byteLimit": 2048000,
      "rowLimit": 10000
     },
     "inputWidgets": {},
     "nuid": "cd567801-3b12-46a7-b702-a02b4aec0c0b",
     "showTitle": false,
     "tableResultSettingsMap": {},
     "title": ""
    }
   },
   "outputs": [
    {
     "output_type": "display_data",
     "data": {
      "image/png": "[encoded data removed]",
      "text/plain": [
       "<Figure size 1000x500 with 1 Axes>"
      ]
     },
     "metadata": {},
     "output_type": "display_data"
    }
   ],
   "source": [
    "# Add difference column\n",
    "yearly_stats['Close-Open'] = yearly_stats['Close'] - yearly_stats['Open']\n",
    "\n",
    "plt.figure(figsize=(10,5))\n",
    "plt.plot(yearly_stats['Year'], yearly_stats['Close-Open'], marker='^', color='purple', label='Close - Open Difference')\n",
    "\n",
    "plt.xticks(np.arange(yearly_stats['Year'].min(), yearly_stats['Year'].max()+1, 2))\n",
    "plt.title(\"Year-wise Close - Open Difference\")\n",
    "plt.xlabel(\"Year\")\n",
    "plt.ylabel(\"Price Difference\")\n",
    "plt.legend()\n",
    "plt.grid(True)\n",
    "plt.show()\n"
   ]
  },
  {
   "cell_type": "markdown",
   "metadata": {
    "application/vnd.databricks.v1+cell": {
     "cellMetadata": {},
     "inputWidgets": {},
     "nuid": "4491b930-e104-4f0c-934c-52ad8aff124b",
     "showTitle": false,
     "tableResultSettingsMap": {},
     "title": ""
    }
   },
   "source": [
    "**Step 6) Forcasting**"
   ]
  },
  {
   "cell_type": "code",
   "execution_count": 0,
   "metadata": {
    "application/vnd.databricks.v1+cell": {
     "cellMetadata": {
      "byteLimit": 2048000,
      "rowLimit": 10000
     },
     "inputWidgets": {},
     "nuid": "f107332d-c9e9-49bc-9c56-fad384d5e8c2",
     "showTitle": false,
     "tableResultSettingsMap": {},
     "title": ""
    }
   },
   "outputs": [
    {
     "output_type": "stream",
     "name": "stdout",
     "output_type": "stream",
     "text": [
      "CV MAE:  mean=1898.05, last fold=4060.22\nCV RMSE: mean=2421.16, last fold=5012.96\nSaved predictions to: /Volumes/workspace/default/dataset/nifty100_predictions_2026.csv\n"
     ]
    },
    {
     "output_type": "display_data",
     "data": {
      "image/png": "[encoded data removed]",
      "text/plain": [
       "<Figure size 1200x600 with 1 Axes>"
      ]
     },
     "metadata": {},
     "output_type": "display_data"
    },
    {
     "output_type": "display_data",
     "data": {
      "text/html": [
       "<style scoped>\n",
       "  .table-result-container {\n",
       "    max-height: 300px;\n",
       "    overflow: auto;\n",
       "  }\n",
       "  table, th, td {\n",
       "    border: 1px solid black;\n",
       "    border-collapse: collapse;\n",
       "  }\n",
       "  th, td {\n",
       "    padding: 5px;\n",
       "  }\n",
       "  th {\n",
       "    text-align: left;\n",
       "  }\n",
       "</style><div class='table-result-container'><table class='table-result'><thead style='background-color: white'><tr><th>Date</th><th>Predicted_Close</th></tr></thead><tbody><tr><td>2025-12-09T00:00:00.000Z</td><td>25086.081482071655</td></tr><tr><td>2025-12-10T00:00:00.000Z</td><td>25086.081482071655</td></tr><tr><td>2025-12-11T00:00:00.000Z</td><td>25086.081482071655</td></tr><tr><td>2025-12-12T00:00:00.000Z</td><td>25086.081482071655</td></tr><tr><td>2025-12-15T00:00:00.000Z</td><td>25086.081482071655</td></tr></tbody></table></div>"
      ]
     },
     "metadata": {
      "application/vnd.databricks.v1+output": {
       "addedWidgets": {},
       "aggData": [],
       "aggError": "",
       "aggOverflow": false,
       "aggSchema": [],
       "aggSeriesLimitReached": false,
       "aggType": "",
       "arguments": {},
       "columnCustomDisplayInfos": {},
       "data": [
        [
         "2025-12-09T00:00:00.000Z",
         25086.081482071655
        ],
        [
         "2025-12-10T00:00:00.000Z",
         25086.081482071655
        ],
        [
         "2025-12-11T00:00:00.000Z",
         25086.081482071655
        ],
        [
         "2025-12-12T00:00:00.000Z",
         25086.081482071655
        ],
        [
         "2025-12-15T00:00:00.000Z",
         25086.081482071655
        ]
       ],
       "datasetInfos": [],
       "dbfsResultPath": null,
       "isJsonSchema": true,
       "metadata": {},
       "overflow": false,
       "plotOptions": {
        "customPlotOptions": {},
        "displayType": "table",
        "pivotAggregation": null,
        "pivotColumns": null,
        "xColumns": null,
        "yColumns": null
       },
       "removedWidgets": [],
       "schema": [
        {
         "metadata": "{}",
         "name": "Date",
         "type": "\"timestamp\""
        },
        {
         "metadata": "{}",
         "name": "Predicted_Close",
         "type": "\"double\""
        }
       ],
       "type": "table"
      }
     },
     "output_type": "display_data"
    },
    {
     "output_type": "display_data",
     "data": {
      "text/html": [
       "<style scoped>\n",
       "  .table-result-container {\n",
       "    max-height: 300px;\n",
       "    overflow: auto;\n",
       "  }\n",
       "  table, th, td {\n",
       "    border: 1px solid black;\n",
       "    border-collapse: collapse;\n",
       "  }\n",
       "  th, td {\n",
       "    padding: 5px;\n",
       "  }\n",
       "  th {\n",
       "    text-align: left;\n",
       "  }\n",
       "</style><div class='table-result-container'><table class='table-result'><thead style='background-color: white'><tr><th>Date</th><th>Predicted_Close</th></tr></thead><tbody><tr><td>2026-12-25T00:00:00.000Z</td><td>25091.87864643739</td></tr><tr><td>2026-12-28T00:00:00.000Z</td><td>25125.971277820583</td></tr><tr><td>2026-12-29T00:00:00.000Z</td><td>25125.971277820583</td></tr><tr><td>2026-12-30T00:00:00.000Z</td><td>25125.971277820583</td></tr><tr><td>2026-12-31T00:00:00.000Z</td><td>25119.09294173106</td></tr></tbody></table></div>"
      ]
     },
     "metadata": {
      "application/vnd.databricks.v1+output": {
       "addedWidgets": {},
       "aggData": [],
       "aggError": "",
       "aggOverflow": false,
       "aggSchema": [],
       "aggSeriesLimitReached": false,
       "aggType": "",
       "arguments": {},
       "columnCustomDisplayInfos": {},
       "data": [
        [
         "2026-12-25T00:00:00.000Z",
         25091.87864643739
        ],
        [
         "2026-12-28T00:00:00.000Z",
         25125.971277820583
        ],
        [
         "2026-12-29T00:00:00.000Z",
         25125.971277820583
        ],
        [
         "2026-12-30T00:00:00.000Z",
         25125.971277820583
        ],
        [
         "2026-12-31T00:00:00.000Z",
         25119.09294173106
        ]
       ],
       "datasetInfos": [],
       "dbfsResultPath": null,
       "isJsonSchema": true,
       "metadata": {},
       "overflow": false,
       "plotOptions": {
        "customPlotOptions": {},
        "displayType": "table",
        "pivotAggregation": null,
        "pivotColumns": null,
        "xColumns": null,
        "yColumns": null
       },
       "removedWidgets": [],
       "schema": [
        {
         "metadata": "{}",
         "name": "Date",
         "type": "\"timestamp\""
        },
        {
         "metadata": "{}",
         "name": "Predicted_Close",
         "type": "\"double\""
        }
       ],
       "type": "table"
      }
     },
     "output_type": "display_data"
    }
   ],
   "source": [
    "# Databricks: run this cell\n",
    "%matplotlib inline\n",
    "\n",
    "import numpy as np\n",
    "import pandas as pd\n",
    "import matplotlib.pyplot as plt\n",
    "\n",
    "from sklearn.model_selection import TimeSeriesSplit\n",
    "from sklearn.metrics import mean_absolute_error, mean_squared_error\n",
    "from sklearn.ensemble import GradientBoostingRegressor\n",
    "\n",
    "# ---------- 1) PREPARE DATA ----------\n",
    "# Ensure proper dtypes and sort\n",
    "final_df['Date'] = pd.to_datetime(final_df['Date'], errors='coerce')\n",
    "final_df['Close'] = pd.to_numeric(final_df['Close'], errors='coerce')\n",
    "df = final_df[['Date','Close']].dropna().sort_values('Date').reset_index(drop=True)\n",
    "\n",
    "# Reindex to BUSINESS DAYS (B), forward-fill missing closes\n",
    "end_forecast = pd.Timestamp('2026-12-31')\n",
    "all_bd = pd.bdate_range(df['Date'].min(), end_forecast)\n",
    "df = (df.set_index('Date')\n",
    "        .reindex(all_bd)\n",
    "        .rename_axis('Date')\n",
    "        .assign(Close=lambda x: x['Close'].ffill())\n",
    "        .reset_index())\n",
    "\n",
    "# ---------- 2) FEATURE ENGINEERING ----------\n",
    "def rsi(series, period=14):\n",
    "    delta = series.diff()\n",
    "    up = np.where(delta>0, delta, 0.0)\n",
    "    down = np.where(delta<0, -delta, 0.0)\n",
    "    roll_up = pd.Series(up).rolling(period).mean()\n",
    "    roll_down = pd.Series(down).rolling(period).mean()\n",
    "    rs = roll_up / (roll_down + 1e-9)\n",
    "    return 100 - (100 / (1 + rs))\n",
    "\n",
    "def make_features(frame):\n",
    "    f = frame.copy()\n",
    "    # Lags of close\n",
    "    for l in [1,2,3,5,10,21]:\n",
    "        f[f'lag_{l}'] = f['Close'].shift(l)\n",
    "    # Returns\n",
    "    f['ret_1']  = f['Close'].pct_change(1)\n",
    "    f['ret_5']  = f['Close'].pct_change(5)\n",
    "    f['ret_21'] = f['Close'].pct_change(21)\n",
    "    # Moving averages & std\n",
    "    for w in [5,10,21,63,126]:\n",
    "        f[f'ma_{w}']  = f['Close'].rolling(w).mean()\n",
    "    for w in [5,21,63]:\n",
    "        f[f'std_{w}'] = f['Close'].rolling(w).std()\n",
    "    # MACD (12,26,9)\n",
    "    ema12 = f['Close'].ewm(span=12, adjust=False).mean()\n",
    "    ema26 = f['Close'].ewm(span=26, adjust=False).mean()\n",
    "    f['macd'] = ema12 - ema26\n",
    "    f['macd_sig'] = f['macd'].ewm(span=9, adjust=False).mean()\n",
    "    f['macd_hist'] = f['macd'] - f['macd_sig']\n",
    "    # RSI\n",
    "    f['rsi14'] = rsi(f['Close'], 14).values\n",
    "    # Calendar features\n",
    "    f['dow'] = f['Date'].dt.weekday\n",
    "    f['dom'] = f['Date'].dt.day\n",
    "    f['moy'] = f['Date'].dt.month\n",
    "    # Drop warmup NA\n",
    "    f = f.dropna().reset_index(drop=True)\n",
    "    return f\n",
    "\n",
    "df_feat = make_features(df.assign(Date=df['Date']))\n",
    "feature_cols = [c for c in df_feat.columns if c not in ['Close'] and c != 'Date']\n",
    "target_col = 'Close'\n",
    "\n",
    "# ---------- 3) TRAIN / VALIDATE ----------\n",
    "# Use data up to last available historical date for training/validation\n",
    "hist_mask = df_feat['Date'] <= final_df['Date'].max()\n",
    "hist = df_feat[hist_mask].reset_index(drop=True)\n",
    "X = hist[feature_cols]\n",
    "y = hist[target_col]\n",
    "\n",
    "# Time-series cross validation (optional but helpful)\n",
    "tscv = TimeSeriesSplit(n_splits=5)\n",
    "cv_mae, cv_rmse = [], []\n",
    "for train_idx, test_idx in tscv.split(X):\n",
    "    Xtr, Xte = X.iloc[train_idx], X.iloc[test_idx]\n",
    "    ytr, yte = y.iloc[train_idx], y.iloc[test_idx]\n",
    "    model = GradientBoostingRegressor(\n",
    "        n_estimators=600, learning_rate=0.02, max_depth=3, subsample=0.8, random_state=42\n",
    "    )\n",
    "    model.fit(Xtr, ytr)\n",
    "    pred = model.predict(Xte)\n",
    "    cv_mae.append(mean_absolute_error(yte, pred))\n",
    "    cv_rmse.append(mean_squared_error(yte, pred, squared=False))\n",
    "\n",
    "print(f\"CV MAE:  mean={np.mean(cv_mae):.2f}, last fold={cv_mae[-1]:.2f}\")\n",
    "print(f\"CV RMSE: mean={np.mean(cv_rmse):.2f}, last fold={cv_rmse[-1]:.2f}\")\n",
    "\n",
    "# Fit final model on ALL historical data\n",
    "final_model = GradientBoostingRegressor(\n",
    "    n_estimators=800, learning_rate=0.02, max_depth=3, subsample=0.9, random_state=42\n",
    ")\n",
    "final_model.fit(X, y)\n",
    "\n",
    "# ---------- 4) RECURSIVE MULTI-STEP FORECAST to 2026-12-31 ----------\n",
    "# We’ll walk forward one business day at a time and rebuild only the latest feature row.\n",
    "\n",
    "full = df_feat.copy()  # contains history up to end_forecast, with NaNs removed\n",
    "last_known_idx = full['Date'].searchsorted(final_df['Date'].max())\n",
    "full = full.iloc[:last_known_idx+1].copy()  # strictly up to last historical point\n",
    "\n",
    "future_dates = pd.bdate_range(final_df['Date'].max() + pd.Timedelta(days=1), end_forecast)\n",
    "\n",
    "pred_list = []\n",
    "tmp = df.copy()  # we’ll append predictions here to keep indicators updating\n",
    "tmp = tmp.set_index('Date')\n",
    "# Ensure tmp has all business days & close (history already ffilled)\n",
    "for dt in future_dates:\n",
    "    # Build one-row feature set using current tmp (which includes last prediction)\n",
    "    cur = tmp.reset_index().rename(columns={'index':'Date'})\n",
    "    cur = cur.reset_index(drop=True)\n",
    "    cur = cur[['Close']].copy()\n",
    "    cur = tmp.reset_index().rename(columns={'index':'Date'})\n",
    "    cur = cur[['Date','Close']]\n",
    "    one = make_features(cur).iloc[-1:].copy()  # last row has features for 'today'\n",
    "    # One caveat: make_features drops NA; ensure it still aligns\n",
    "    X_one = one[feature_cols]\n",
    "    y_hat = float(final_model.predict(X_one))\n",
    "    # Append predicted close for dt, then continue\n",
    "    tmp.loc[dt, 'Close'] = y_hat\n",
    "    pred_list.append({'Date': dt, 'Predicted_Close': y_hat})\n",
    "\n",
    "pred_df = pd.DataFrame(pred_list)\n",
    "\n",
    "# ---------- 5) MERGE ACTUALS & PREDICTIONS, SAVE, PLOT ----------\n",
    "# Last year actuals for context\n",
    "actual_tail = df[df['Date'] >= (final_df['Date'].max() - pd.Timedelta(days=252))][['Date','Close']]\n",
    "\n",
    "out = pred_df.copy()\n",
    "out_path = \"/Volumes/workspace/default/dataset/nifty100_predictions_2026.csv\"  # Databricks path (dbfs)\n",
    "out.to_csv(out_path, index=False)\n",
    "print(f\"Saved predictions to: {out_path}\")\n",
    "\n",
    "# Plot: last year actuals + all future preds\n",
    "plt.figure(figsize=(12,6))\n",
    "plt.plot(actual_tail['Date'], actual_tail['Close'], label='Actual (last ~1y)')\n",
    "plt.plot(pred_df['Date'], pred_df['Predicted_Close'], label='Forecast (to 2026-12-31)')\n",
    "plt.title(\"NIFTY 100: Forecast to 2026-12-31 (Daily, business days)\")\n",
    "plt.xlabel(\"Date\"); plt.ylabel(\"Index Level\"); plt.legend(); plt.grid(True); plt.show()\n",
    "\n",
    "# Optional: quick table peek\n",
    "display(pred_df.head())\n",
    "display(pred_df.tail())\n"
   ]
  },
  {
   "cell_type": "code",
   "execution_count": 0,
   "metadata": {
    "application/vnd.databricks.v1+cell": {
     "cellMetadata": {
      "byteLimit": 2048000,
      "rowLimit": 10000
     },
     "inputWidgets": {},
     "nuid": "ee132da6-f530-4134-911c-ef5d4a59e758",
     "showTitle": false,
     "tableResultSettingsMap": {},
     "title": ""
    }
   },
   "outputs": [],
   "source": [
    "final_df.to_csv(\"/Volumes/workspace/default/dataset/Nifty_final_df.csv\", index=False)"
   ]
  },
  {
   "cell_type": "code",
   "execution_count": 0,
   "metadata": {
    "application/vnd.databricks.v1+cell": {
     "cellMetadata": {
      "byteLimit": 2048000,
      "rowLimit": 10000
     },
     "inputWidgets": {},
     "nuid": "7b30cbc0-c74a-4d6d-be03-7e233ec44109",
     "showTitle": false,
     "tableResultSettingsMap": {},
     "title": ""
    }
   },
   "outputs": [
    {
     "output_type": "display_data",
     "data": {
      "text/plain": [
       "\u001B[0;31m---------------------------------------------------------------------------\u001B[0m\n",
       "\u001B[0;31mNameError\u001B[0m                                 Traceback (most recent call last)\n",
       "File \u001B[0;32m<command-5256671600748801>, line 3\u001B[0m\n",
       "\u001B[1;32m      1\u001B[0m \u001B[38;5;66;03m# saving cleaning data to delta table\u001B[39;00m\n",
       "\u001B[0;32m----> 3\u001B[0m final_df\u001B[38;5;241m.\u001B[39mwrite\u001B[38;5;241m.\u001B[39mformat(\u001B[38;5;124m\"\u001B[39m\u001B[38;5;124mdelta\u001B[39m\u001B[38;5;124m\"\u001B[39m) \\\n",
       "\u001B[1;32m      4\u001B[0m     \u001B[38;5;241m.\u001B[39mmode(\u001B[38;5;124m\"\u001B[39m\u001B[38;5;124moverwrite\u001B[39m\u001B[38;5;124m\"\u001B[39m) \\\n",
       "\u001B[1;32m      5\u001B[0m     \u001B[38;5;241m.\u001B[39msaveAsTable(\u001B[38;5;124m\"\u001B[39m\u001B[38;5;124mtrading_data_cleaned\u001B[39m\u001B[38;5;124m\"\u001B[39m)\n",
       "\n",
       "\u001B[0;31mNameError\u001B[0m: name 'final_df' is not defined"
      ]
     },
     "metadata": {
      "application/vnd.databricks.v1+output": {
       "addedWidgets": {},
       "arguments": {},
       "datasetInfos": [],
       "jupyterProps": {
        "ename": "NameError",
        "evalue": "name 'final_df' is not defined"
       },
       "metadata": {
        "errorSummary": "<span class='ansi-red-fg'>NameError</span>: name 'final_df' is not defined"
       },
       "removedWidgets": [],
       "sqlProps": null,
       "stackFrames": [
        "\u001B[0;31m---------------------------------------------------------------------------\u001B[0m",
        "\u001B[0;31mNameError\u001B[0m                                 Traceback (most recent call last)",
        "File \u001B[0;32m<command-5256671600748801>, line 3\u001B[0m\n\u001B[1;32m      1\u001B[0m \u001B[38;5;66;03m# saving cleaning data to delta table\u001B[39;00m\n\u001B[0;32m----> 3\u001B[0m final_df\u001B[38;5;241m.\u001B[39mwrite\u001B[38;5;241m.\u001B[39mformat(\u001B[38;5;124m\"\u001B[39m\u001B[38;5;124mdelta\u001B[39m\u001B[38;5;124m\"\u001B[39m) \\\n\u001B[1;32m      4\u001B[0m     \u001B[38;5;241m.\u001B[39mmode(\u001B[38;5;124m\"\u001B[39m\u001B[38;5;124moverwrite\u001B[39m\u001B[38;5;124m\"\u001B[39m) \\\n\u001B[1;32m      5\u001B[0m     \u001B[38;5;241m.\u001B[39msaveAsTable(\u001B[38;5;124m\"\u001B[39m\u001B[38;5;124mtrading_data_cleaned\u001B[39m\u001B[38;5;124m\"\u001B[39m)\n",
        "\u001B[0;31mNameError\u001B[0m: name 'final_df' is not defined"
       ],
       "type": "baseError"
      }
     },
     "output_type": "display_data"
    }
   ],
   "source": [
    "# saving cleaning data to delta table\n",
    "\n",
    "final_df.write.format(\"delta\") \\\n",
    "    .mode(\"overwrite\") \\\n",
    "    .saveAsTable(\"trading_data_cleaned\")"
   ]
  }
 ],
 "metadata": {
  "application/vnd.databricks.v1+notebook": {
   "computePreferences": null,
   "dashboards": [],
   "environmentMetadata": {
    "base_environment": "",
    "environment_version": "2"
   },
   "inputWidgetPreferences": null,
   "language": "python",
   "notebookMetadata": {
    "pythonIndentUnit": 4
   },
   "notebookName": "Nifty Data cleaning",
   "widgets": {}
  },
  "language_info": {
   "name": "python"
  }
 },
 "nbformat": 4,
 "nbformat_minor": 0
}